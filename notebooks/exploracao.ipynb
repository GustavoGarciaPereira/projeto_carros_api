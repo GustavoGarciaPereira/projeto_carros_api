{
 "cells": [
  {
   "cell_type": "markdown",
   "metadata": {},
   "source": [
    "# Análise Exploratória de Dados (EDA) - Preços de Carros\n",
    "\n",
    "**Objetivo:** Entender o conjunto de dados `carros.csv` para identificar padrões, correlações e preparar o terreno para a modelagem de um sistema de previsão de preços.\n",
    "\n",
    "**Passos:**\n",
    "1.  **Setup Inicial:** Importar bibliotecas e carregar os dados.\n",
    "2.  **Inspeção Geral:** Verificar a estrutura, tipos de dados e estatísticas descritivas.\n",
    "3.  **Análise Univariada:** Analisar cada variável individualmente.\n",
    "4.  **Análise Bivariada:** Analisar a relação entre as variáveis, especialmente com a nossa variável alvo (`Preco`).\n",
    "5.  **Conclusões e Próximos Passos:** Resumir os achados e definir a estratégia para o modelo."
   ]
  },
  {
   "cell_type": "markdown",
   "metadata": {},
   "source": [
    "## 1. Setup Inicial"
   ]
  },
  {
   "cell_type": "code",
   "execution_count": null,
   "metadata": {},
   "outputs": [],
   "source": [
    "import pandas as pd\n",
    "import numpy as np\n",
    "import matplotlib.pyplot as plt\n",
    "import seaborn as sns\n",
    "\n",
    "# Configurações de visualização\n",
    "sns.set_style('whitegrid')\n",
    "plt.rcParams['figure.figsize'] = (10, 6)"
   ]
  },
  {
   "cell_type": "code",
   "execution_count": null,
   "metadata": {},
   "outputs": [],
   "source": [
    "# Carregando os dados\n",
    "# O notebook está em /notebooks, então precisamos voltar um nível para acessar /data\n",
    "df = pd.read_csv('../data/carros.csv')"
   ]
  },
  {
   "cell_type": "markdown",
   "metadata": {},
   "source": [
    "## 2. Inspeção Geral"
   ]
  },
  {
   "cell_type": "code",
   "execution_count": null,
   "metadata": {},
   "outputs": [],
   "source": [
    "# Visualizar as 5 primeiras linhas\n",
    "df.head()"
   ]
  },
  {
   "cell_type": "code",
   "execution_count": null,
   "metadata": {},
   "outputs": [],
   "source": [
    "# Informações sobre o DataFrame: tipos de dados e valores não nulos\n",
    "df.info()"
   ]
  },
  {
   "cell_type": "markdown",
   "metadata": {},
   "source": [
    "**Observação:** Não há valores nulos no nosso dataset. As colunas `Marca` e `Modelo` são do tipo `object` (texto), enquanto as outras são numéricas, como esperado."
   ]
  },
  {
   "cell_type": "code",
   "execution_count": null,
   "metadata": {},
   "outputs": [],
   "source": [
    "# Estatísticas descritivas para as colunas numéricas\n",
    "df.describe()"
   ]
  },
  {
   "cell_type": "markdown",
   "metadata": {},
   "source": [
    "**Observação:**\n",
    "- O ano dos carros varia de 2014 a 2021.\n",
    "- A quilometragem média é de cerca de 52.000 km.\n",
    "- O preço médio é de R$ 46.750."
   ]
  },
  {
   "cell_type": "markdown",
   "metadata": {},
   "source": [
    "## 3. Análise Univariada"
   ]
  },
  {
   "cell_type": "markdown",
   "metadata": {},
   "source": [
    "### Variáveis Categóricas (`Marca`, `Modelo`)"
   ]
  },
  {
   "cell_type": "code",
   "execution_count": null,
   "metadata": {},
   "outputs": [],
   "source": [
    "fig, ax = plt.subplots(1, 2, figsize=(16, 6))\n",
    "\n",
    "sns.countplot(data=df, x='Marca', ax=ax[0], palette='viridis')\n",
    "ax[0].set_title('Contagem de Carros por Marca')\n",
    "\n",
    "sns.countplot(data=df, y='Modelo', ax=ax[1], palette='plasma')\n",
    "ax[1].set_title('Contagem de Carros por Modelo')\n",
    "\n",
    "plt.tight_layout()\n",
    "plt.show()"
   ]
  },
  {
   "cell_type": "markdown",
   "metadata": {},
   "source": [
    "**Observação:** O dataset está perfeitamente balanceado em termos de marcas e modelos, com 3 ocorrências para cada marca e 2 para cada modelo. Em um cenário real, isso raramente acontece."
   ]
  },
  {
   "cell_type": "markdown",
   "metadata": {},
   "source": [
    "### Variáveis Numéricas (`Ano`, `Quilometragem`, `Preco`)"
   ]
  },
  {
   "cell_type": "code",
   "execution_count": null,
   "metadata": {},
   "outputs": [],
   "source": [
    "fig, ax = plt.subplots(1, 3, figsize=(20, 6))\n",
    "\n",
    "sns.histplot(df['Ano'], kde=True, ax=ax[0], bins=8)\n",
    "ax[0].set_title('Distribuição do Ano de Fabricação')\n",
    "\n",
    "sns.histplot(df['Quilometragem'], kde=True, ax=ax[1])\n",
    "ax[1].set_title('Distribuição da Quilometragem')\n",
    "\n",
    "sns.histplot(df['Preco'], kde=True, ax=ax[2])\n",
    "ax[2].set_title('Distribuição do Preço')\n",
    "\n",
    "plt.show()"
   ]
  },
  {
   "cell_type": "markdown",
   "metadata": {},
   "source": [
    "**Observação:** As distribuições nos dão uma ideia da faixa de valores para cada variável. A distribuição de preços parece ter dois \"picos\", o que pode indicar grupos diferentes de carros (talvez os mais novos vs. os mais antigos)."
   ]
  },
  {
   "cell_type": "markdown",
   "metadata": {},
   "source": [
    "## 4. Análise Bivariada"
   ]
  },
  {
   "cell_type": "markdown",
   "metadata": {},
   "source": [
    "### Relação das Features com o Preço"
   ]
  },
  {
   "cell_type": "code",
   "execution_count": null,
   "metadata": {},
   "outputs": [],
   "source": [
    "fig, ax = plt.subplots(1, 2, figsize=(16, 6))\n",
    "\n",
    "# Preço vs. Quilometragem\n",
    "sns.scatterplot(data=df, x='Quilometragem', y='Preco', hue='Marca', s=100, ax=ax[0])\n",
    "ax[0].set_title('Preço vs. Quilometragem')\n",
    "ax[0].text(70000, 70000, 'Tendência Negativa Clara', fontsize=12, color='red')\n",
    "\n",
    "# Preço vs. Ano\n",
    "sns.scatterplot(data=df, x='Ano', y='Preco', hue='Marca', s=100, ax=ax[1])\n",
    "ax[1].set_title('Preço vs. Ano')\n",
    "ax[1].text(2014.5, 25000, 'Tendência Positiva Clara', fontsize=12, color='green')\n",
    "\n",
    "plt.show()"
   ]
  },
  {
   "cell_type": "markdown",
   "metadata": {},
   "source": [
    "**Hipóteses Fortes:**\n",
    "1.  **Quilometragem:** Quanto maior a quilometragem, menor o preço. Existe uma correlação negativa forte e linear.\n",
    "2.  **Ano:** Quanto mais novo o carro (maior o ano), maior o preço. Existe uma correlação positiva forte e linear.\n",
    "\n",
    "Essas duas variáveis parecem ser excelentes preditoras para um modelo de regressão linear."
   ]
  },
  {
   "cell_type": "code",
   "execution_count": null,
   "metadata": {},
   "outputs": [],
   "source": [
    "# Analisando o preço por categoria\n",
    "fig, ax = plt.subplots(1, 2, figsize=(18, 7))\n",
    "\n",
    "sns.boxplot(data=df, x='Marca', y='Preco', ax=ax[0])\n",
    "ax[0].set_title('Distribuição de Preço por Marca')\n",
    "\n",
    "sns.boxplot(data=df, x='Modelo', y='Preco', ax=ax[1])\n",
    "ax[1].set_title('Distribuição de Preço por Modelo')\n",
    "plt.xticks(rotation=45)\n",
    "\n",
    "plt.show()"
   ]
  },
  {
   "cell_type": "markdown",
   "metadata": {},
   "source": [
    "**Observação:**\n",
    "- **Marca:** Chevrolet e VW parecem ter carros com preços medianos mais altos que Fiat e Ford neste dataset.\n",
    "- **Modelo:** Onix e Polo são os modelos mais caros, enquanto o Uno é o mais barato. \n",
    "\n",
    "Isso confirma que `Marca` e `Modelo` também são informações importantes que influenciam o preço e devem ser incluídas no nosso modelo."
   ]
  },
  {
   "cell_type": "markdown",
   "metadata": {},
   "source": [
    "### Matriz de Correlação"
   ]
  },
  {
   "cell_type": "code",
   "execution_count": null,
   "metadata": {},
   "outputs": [],
   "source": [
    "# A matriz de correlação só funciona com dados numéricos\n",
    "correlation_matrix = df.corr(numeric_only=True)\n",
    "\n",
    "plt.figure(figsize=(8, 6))\n",
    "sns.heatmap(correlation_matrix, annot=True, cmap='coolwarm', fmt='.2f')\n",
    "plt.title('Matriz de Correlação entre Variáveis Numéricas')\n",
    "plt.show()"
   ]
  },
  {
   "cell_type": "markdown",
   "metadata": {},
   "source": [
    "**Confirmação:**\n",
    "- `Preco` tem uma correlação positiva muito forte com `Ano` (**+0.96**).\n",
    "- `Preco` tem uma correlação negativa muito forte com `Quilometragem` (**-0.95**).\n",
    "- `Ano` e `Quilometragem` também são fortemente correlacionados entre si (**-0.93**), o que é esperado (carros mais velhos tendem a ter mais quilometragem)."
   ]
  },
  {
   "cell_type": "markdown",
   "metadata": {},
   "source": [
    "## 5. Conclusões e Próximos Passos"
   ]
  },
  {
   "cell_type": "markdown",
   "metadata": {},
   "source": [
    "1.  **Qualidade dos Dados:** O dataset é pequeno, mas limpo e sem valores ausentes.\n",
    "2.  **Features Relevantes:** Todas as quatro features (`Marca`, `Modelo`, `Ano`, `Quilometragem`) mostram ter uma relação clara com a variável alvo (`Preco`).\n",
    "3.  **Relações Lineares:** As relações entre as features numéricas (`Ano`, `Quilometragem`) e o `Preco` são visivelmente lineares. Isso sugere que um modelo de **Regressão Linear Múltipla** é um excelente ponto de partida.\n",
    "4.  **Tratamento de Features:** As features categóricas (`Marca`, `Modelo`) precisam ser convertidas para um formato numérico para que o modelo de regressão possa utilizá-las. A técnica de **One-Hot Encoding** (como `pd.get_dummies`) é a abordagem padrão para isso.\n",
    "\n",
    "**Estratégia de Modelagem:**\n",
    "- **Features (X):** `Ano`, `Quilometragem`, e as versões One-Hot Encoded de `Marca` e `Modelo`.\n",
    "- **Alvo (y):** `Preco`.\n",
    "- **Modelo:** `LinearRegression` do Scikit-learn."
   ]
  }
 ],
 "metadata": {
  "kernelspec": {
   "display_name": "Python 3",
   "language": "python",
   "name": "python3"
  },
  "language_info": {
   "name": "python",
   "version": "3.9.7"
  }
 },
 "nbformat": 4,
 "nbformat_minor": 2
}